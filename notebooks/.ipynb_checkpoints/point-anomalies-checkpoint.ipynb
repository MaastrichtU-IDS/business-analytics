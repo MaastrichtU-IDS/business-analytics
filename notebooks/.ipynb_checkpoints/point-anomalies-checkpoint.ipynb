{
 "cells": [
  {
   "cell_type": "markdown",
   "metadata": {},
   "source": [
    "# Anomaly Detection - Outliers"
   ]
  },
  {
   "cell_type": "markdown",
   "metadata": {},
   "source": [
    "---\n",
    "## Point anomalies on test responding"
   ]
  },
  {
   "cell_type": "markdown",
   "metadata": {},
   "source": [
    "It is mainly important to analyze all the features involved in every test taken by a person, and it is straightforward thinking that not all tasks are with full concentration because the nature of the tool, is an app, and we might expect the people taking the test can get distracted by some random reason\n",
    "\n",
    "The main objective here is to analyze any pattern related to the time in milliseconds a participant spend on responding every visual task."
   ]
  },
  {
   "cell_type": "code",
   "execution_count": null,
   "metadata": {},
   "outputs": [],
   "source": [
    "import pandas as pd\n",
    "import matplotlib.pyplot as plt\n",
    "import seaborn as sns\n",
    "%matplotlib inline"
   ]
  },
  {
   "cell_type": "code",
   "execution_count": null,
   "metadata": {},
   "outputs": [],
   "source": [
    "color_ms = '#386cb0' #blue, This is the color chosen for patients with Multiple Sclerosis\n",
    "color_hc = 'red'#This is the color chosen for health control participants"
   ]
  },
  {
   "cell_type": "code",
   "execution_count": null,
   "metadata": {},
   "outputs": [],
   "source": [
    "df_measures_users = pd.read_csv('https://s3.eu-west-3.amazonaws.com/pedrohserrano-datasets/df_measures_users.csv', encoding=\"utf-8\")"
   ]
  },
  {
   "cell_type": "code",
   "execution_count": null,
   "metadata": {},
   "outputs": [],
   "source": [
    "df_symbols = pd.read_csv('https://s3.eu-west-3.amazonaws.com/pedrohserrano-datasets/df_symbols.csv', encoding=\"utf-8\") "
   ]
  },
  {
   "cell_type": "code",
   "execution_count": null,
   "metadata": {},
   "outputs": [],
   "source": [
    "score_variable = 'correct.answers'"
   ]
  },
  {
   "cell_type": "markdown",
   "metadata": {},
   "source": [
    "### Population of Study"
   ]
  },
  {
   "cell_type": "code",
   "execution_count": null,
   "metadata": {},
   "outputs": [],
   "source": [
    "print('{} Data points distribuited among {} Participants'.format(len(df_symbols), len(df_measures_users)))"
   ]
  },
  {
   "cell_type": "markdown",
   "metadata": {},
   "source": [
    "We choose the score variable as the number of correct answers on every test"
   ]
  },
  {
   "cell_type": "code",
   "execution_count": null,
   "metadata": {},
   "outputs": [],
   "source": [
    "#Split the patients MS (Multiple Sclerosis) and HC (Health Control)\n",
    "df_ms = df_measures_users[df_measures_users['ms']==1]\n",
    "df_hc = df_measures_users[df_measures_users['ms']==0]"
   ]
  },
  {
   "cell_type": "code",
   "execution_count": null,
   "metadata": {},
   "outputs": [],
   "source": [
    "print('Patients on MS group: {} ({}%)\\nPatients on HC group: {} ({}%) '.format(\n",
    "        len(df_ms), round(len(df_ms)/len(df_measures_users)*100, 0),\n",
    "        len(df_hc), round(len(df_hc)/len(df_measures_users)*100, 0)))"
   ]
  },
  {
   "cell_type": "code",
   "execution_count": null,
   "metadata": {},
   "outputs": [],
   "source": [
    "plt.figure(figsize=[16, 8])\n",
    "sns.kdeplot(df_symbols[df_symbols['ms']==1][score_variable], color='red', label='MS')\n",
    "sns.kdeplot(df_symbols[df_symbols['ms']==0][score_variable], color='blue', label='HC')\n",
    "plt.title('Scores Distribution MS and HC Groups')"
   ]
  },
  {
   "cell_type": "markdown",
   "metadata": {},
   "source": [
    "---\n",
    "### Defining Boundary"
   ]
  },
  {
   "cell_type": "markdown",
   "metadata": {},
   "source": [
    "The first thing we have to consider is the time.\n",
    "\n",
    "So we define $ \\Delta_{tr} $ as the time elapsed between 2 trials, where a trial is the event of push the buttom and select a digit on the test.\n",
    "\n",
    "Thinking on this we say that every person perform $n$ number of tests and every test has $m$ number of trials, then the time elapsed to perform every trial is $ \\Delta_{tr} $\n",
    "\n",
    "We define $T$ as the vector of time responses on an event, following this logic we can calculate the median of those times.\n",
    "\n",
    "Finally we may calculate the $SD$ of all the people on MS and Health Control grou separatelly"
   ]
  },
  {
   "cell_type": "markdown",
   "metadata": {},
   "source": [
    "##### Distraction Points\n",
    "\n",
    "$$ \\Delta_{tr} > median(T) + 2 (SD (Group))  \\hspace{1cm} $$\n",
    "$$ \\max{\\{\\Delta_{tr},0\\}} < median(T) - 2 (SD (Group))  \\hspace{1cm} \\forall{\\Delta_{tr}}$$\n",
    "\n",
    "$T =(\\Delta_{tr1}, \\Delta_{tr2}, ... \\Delta_{trm})$  \n",
    "$tr =$ Time of response on a trial"
   ]
  },
  {
   "cell_type": "code",
   "execution_count": null,
   "metadata": {},
   "outputs": [],
   "source": [
    "print('Standart Deviation of every delta per group \\n MS: {} \\n HC: {}'.format(\n",
    "df_symbols['response_ms_sd'].unique()[0], df_symbols['response_ms_sd'].unique()[1]))"
   ]
  },
  {
   "cell_type": "markdown",
   "metadata": {},
   "source": [
    "### Detecting Outliers"
   ]
  },
  {
   "cell_type": "markdown",
   "metadata": {},
   "source": [
    "We can just take one single event on a random choise person (eobt3CosDzEtxWW5P) for instance, and plot the time of response in milisecond alongside the 90 seconds showing the symbols choosen on each task"
   ]
  },
  {
   "cell_type": "code",
   "execution_count": null,
   "metadata": {
    "scrolled": true
   },
   "outputs": [],
   "source": [
    "df_user = df_symbols[df_symbols['userId']=='eobt3CosDzEtxWW5P']\n",
    "stamps = df_user['timestamp'].unique()\n",
    "\n",
    "plt.figure(figsize=(16, 4))\n",
    "df_user_ts = df_user[df_user['timestamp']==stamps[0]]\n",
    "plt.scatter(df_user_ts['trial'], df_user_ts['response_ms'], color=color_ms)\n",
    "plt.hlines(y=df_user_ts['sup_line'], xmin=0, xmax=max(df_user_ts['trial']), linestyles='--', color=color_ms)\n",
    "plt.hlines(y=df_user_ts['inf_line'], xmin=0, xmax=max(df_user_ts['trial']), linestyles='--', color=color_ms)\n",
    "plt.hlines(y=df_user_ts['response_ms_med'], xmin=0, xmax=max(df_user_ts['trial']), linestyles=':', color=color_ms)\n",
    "plt.fill_between(range(len(df_user_ts['trial'])+1), df_user_ts['sup_line'].mean(), df_user_ts['inf_line'].mean(), alpha=0.2)\n",
    "plt.xticks(df_user_ts['trial'], df_user_ts['symbol'], rotation=90)\n",
    "grouped = df_symbols.groupby(['userId','timestamp'])['distract_points'].sum().reset_index()\n",
    "d_point = grouped[(grouped['userId']=='eobt3CosDzEtxWW5P') & (grouped['timestamp']==stamps[0])]['distract_points'].values\n",
    "plt.title('Event: 1 Score: '+str(max(df_user_ts['correct.answers']))+' Distraction Points: '+str(d_point[0])+' Median Miliseconds: '+str(df_user_ts['response_ms_med'].mean())+' Timestamp: '+str(stamps[0]))\n",
    "plt.show()"
   ]
  },
  {
   "cell_type": "markdown",
   "metadata": {},
   "source": [
    "As we might see the points outside of the boundaries are distraction points because they are 2 SD of the median time of response, where the SD corresponds the variance of the group.\n",
    "\n",
    "The plot below shows the distribution of the time of response in milliseconds on this same event."
   ]
  },
  {
   "cell_type": "code",
   "execution_count": null,
   "metadata": {},
   "outputs": [],
   "source": [
    "plt.figure(figsize=(16, 4))\n",
    "plt.subplot(1,2,1)\n",
    "df_user['response_ms'].hist(bins=16)\n",
    "plt.subplot(1,2,2)\n",
    "sns.kdeplot(df_user['response_ms'])"
   ]
  },
  {
   "cell_type": "markdown",
   "metadata": {},
   "source": [
    "### Distraction Points Correlated"
   ]
  },
  {
   "cell_type": "markdown",
   "metadata": {},
   "source": [
    "The first thing to check is the relation that distracting points have with the score performed on every individual, as we know each test has distraction points and scores, we might aggregate per groups, then we can compare if there is any difference between the number of distractions if a person is MS or HC"
   ]
  },
  {
   "cell_type": "code",
   "execution_count": null,
   "metadata": {
    "scrolled": true
   },
   "outputs": [],
   "source": [
    "df_measures_users.groupby('ms').mean()"
   ]
  },
  {
   "cell_type": "markdown",
   "metadata": {},
   "source": [
    "The table below shows the distractions and scores on each group"
   ]
  },
  {
   "cell_type": "markdown",
   "metadata": {},
   "source": [
    "| Group | Average Score | Average Distractions |\n",
    "|:--:|:--:|:--:|\n",
    "| MS | 52.91 | 1.81 |\n",
    "| HC | 46.22 | 1.49 |"
   ]
  },
  {
   "cell_type": "code",
   "execution_count": null,
   "metadata": {},
   "outputs": [],
   "source": [
    "df_ms = df_measures_users[df_measures_users['ms']==1]\n",
    "df_hc = df_measures_users[df_measures_users['ms']==0]"
   ]
  },
  {
   "cell_type": "code",
   "execution_count": null,
   "metadata": {},
   "outputs": [],
   "source": [
    "sns.jointplot(\"distract_points\", \"correct.answers\", data=df_ms, kind=\"reg\", color=color_ms) #MS correlation\n",
    "sns.jointplot(\"distract_points\", \"correct.answers\", data=df_hc, kind=\"reg\", color=color_hc) #HC correlation"
   ]
  },
  {
   "cell_type": "markdown",
   "metadata": {},
   "source": [
    "As we may see on the plots above we see a negative and significative correlation, the MS group is more clear.\n",
    "**The more distractions the less score**"
   ]
  },
  {
   "cell_type": "markdown",
   "metadata": {},
   "source": [
    "The number of distractions that a single person has is a clear feature that helps to classify the MS people, this feature does not deoend in demographic variables but just with in the test behaviour"
   ]
  },
  {
   "cell_type": "markdown",
   "metadata": {},
   "source": [
    "---\n",
    "### Plotting All participants, All events"
   ]
  },
  {
   "cell_type": "code",
   "execution_count": null,
   "metadata": {},
   "outputs": [],
   "source": [
    "users = list(zip(df_measures_users['userId'], [color_ms if ms==1 else color_hc for ms in df_measures_users['ms']]))\n",
    "for user in users:\n",
    "    df_user = df_symbols[df_symbols['userId']==user[0]]\n",
    "    stamps = df_user['timestamp'].unique()\n",
    "    if len(stamps) <= 2**2: \n",
    "        plot_size =  (2,2); fig_size = (12*1,8*1)\n",
    "    elif len(stamps) <=3**2: \n",
    "        plot_size = (3,3); fig_size = (12*2,8*2)\n",
    "    elif len(stamps) <=4**2: \n",
    "        plot_size = (4,4); fig_size = (12*3,8*3)\n",
    "    elif len(stamps) <=5**2: \n",
    "        plot_size = (5,5); fig_size = (12*4,8*4)\n",
    "    else: \n",
    "        plot_size = (10,10); fig_size = (3*2**10, 2**10)\n",
    "    plt.figure(figsize=(fig_size[0], fig_size[1]))\n",
    "    for idx, i in enumerate(range(len(stamps))):\n",
    "        plt.subplot(plot_size[0],plot_size[1],idx+1)\n",
    "        df_user_ts = df_user[df_user['timestamp']==stamps[i]]\n",
    "        plt.scatter(df_user_ts['trial'], df_user_ts['response_ms'], color=user[1])\n",
    "        plt.hlines(y=df_user_ts['sup_line'], \n",
    "                   xmin=0, xmax=max(df_user_ts['trial']), linestyles='--', color=user[1])\n",
    "        plt.hlines(y=df_user_ts['inf_line'], \n",
    "                   xmin=0, xmax=max(df_user_ts['trial']), linestyles='--', color=user[1])\n",
    "        plt.hlines(y=df_user_ts['response_ms_med'], \n",
    "                   xmin=0, xmax=max(df_user_ts['trial']), linestyles=':', color=user[1])\n",
    "        plt.fill_between(range(len(df_user_ts['trial'])+1), \n",
    "                         df_user_ts['sup_line'].mean(), df_user_ts['inf_line'].mean(), color=user[1], alpha=0.2)\n",
    "        plt.xticks(df_user_ts['trial'], df_user_ts['symbol'], rotation=90)\n",
    "        plt.ylabel('Response in Miliseconds')\n",
    "        grouped = df_symbols.groupby(['userId','timestamp'])['distract_points'].sum().reset_index()\n",
    "        distractions = grouped[(grouped['userId']==user[0]) &\n",
    "                                    (grouped['timestamp']==stamps[i])]['distract_points'].values\n",
    "        plt.title('# Test: '+str(idx)+' Score: '+str(\n",
    "            max(df_user_ts['correct.answers']))+' Distraction Points: '+str(\n",
    "            distractions[0])+' Median Time: '+str(df_user_ts['response_ms_med'].mean()))\n",
    "\n",
    "    plt.tight_layout()"
   ]
  },
  {
   "cell_type": "code",
   "execution_count": null,
   "metadata": {
    "collapsed": true
   },
   "outputs": [],
   "source": []
  }
 ],
 "metadata": {
  "kernelspec": {
   "display_name": "Python 3",
   "language": "python",
   "name": "python3"
  },
  "language_info": {
   "codemirror_mode": {
    "name": "ipython",
    "version": 3
   },
   "file_extension": ".py",
   "mimetype": "text/x-python",
   "name": "python",
   "nbconvert_exporter": "python",
   "pygments_lexer": "ipython3",
   "version": "3.5.4"
  }
 },
 "nbformat": 4,
 "nbformat_minor": 2
}
